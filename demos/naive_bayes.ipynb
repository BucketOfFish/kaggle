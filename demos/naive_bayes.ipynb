{
 "cells": [
  {
   "cell_type": "markdown",
   "metadata": {},
   "source": [
    "## Here we demostrate why naive Bayes seems to fail for this data set."
   ]
  },
  {
   "cell_type": "code",
   "execution_count": 54,
   "metadata": {
    "collapsed": false
   },
   "outputs": [],
   "source": [
    "import pandas as pd\n",
    "import numpy as np\n",
    "import matplotlib.pyplot as plt\n",
    "%matplotlib inline\n",
    "\n",
    "import sys\n",
    "sys.path.insert(0,'../libs/')\n",
    "import data_cleaning as dc"
   ]
  },
  {
   "cell_type": "code",
   "execution_count": 55,
   "metadata": {
    "collapsed": true
   },
   "outputs": [],
   "source": [
    "df = pd.read_csv(\"../data/train.csv\")\n",
    "df = dc.classify_colors(df)\n",
    "df = dc.massage_df(df)"
   ]
  },
  {
   "cell_type": "code",
   "execution_count": 56,
   "metadata": {
    "collapsed": false
   },
   "outputs": [],
   "source": [
    "df_dog = df[df.AnimalType=='Dog'].copy(deep=True)\n",
    "df_cat = df[df.AnimalType=='Cat'].copy(deep=True)"
   ]
  },
  {
   "cell_type": "markdown",
   "metadata": {},
   "source": [
    "Start by fitting all the features we thought were useful."
   ]
  },
  {
   "cell_type": "code",
   "execution_count": 57,
   "metadata": {
    "collapsed": false
   },
   "outputs": [
    {
     "data": {
      "text/plain": [
       "0.73060490218124574"
      ]
     },
     "execution_count": 57,
     "metadata": {},
     "output_type": "execute_result"
    }
   ],
   "source": [
    "dc.fix_cat_breed(df_cat)\n",
    "\n",
    "# Selects the importand \n",
    "cat_features = ['age_numeric', 'sex', 'mixed', 'catbreed','day_of_week','month','neuter_status']\n",
    "colors = ['has_Blue', 'has_Tortie',\n",
    "       'has_White', 'has_Brown', 'has_Lilac', 'has_Point', 'has_Tabby',\n",
    "       'has_Gray', 'has_Agouti', 'has_Black', 'has_Lynx', 'has_Orange',\n",
    "       'has_Tan', 'has_Calico']\n",
    "\n",
    "df_cat_dummies = pd.get_dummies(df_cat[cat_features + colors].dropna())\n",
    "df_cat_dummies\n",
    "\n",
    "# splits data.\n",
    "rows = np.random.choice(df_cat_dummies.index.values\n",
    "                ,int( round(len(df_cat_dummies)*.6) ), replace=False)\n",
    "df_cat_dummies_train = df_cat_dummies.ix[rows]\n",
    "df_cat_dummies_test = df_cat_dummies.drop(rows)\n",
    "\n",
    "#### fit and test model\n",
    "\n",
    "train_features = df_cat_dummies_train\n",
    "train_outcomes = df_cat.ix[df_cat_dummies_train.index]['OutcomeType']\n",
    "test_features  = df_cat_dummies_test\n",
    "test_outcomes  = df_cat.ix[df_cat_dummies_test.index]['OutcomeType']\n",
    "\n",
    "from sklearn.naive_bayes import BernoulliNB\n",
    "from sklearn.metrics import accuracy_score\n",
    "\n",
    "bnb = BernoulliNB()\n",
    "bnb.fit(train_features,train_outcomes)\n",
    "\n",
    "predictions = bnb.predict(test_features)\n",
    "accuracy_score(test_outcomes,predictions)"
   ]
  },
  {
   "cell_type": "code",
   "execution_count": 58,
   "metadata": {
    "collapsed": false
   },
   "outputs": [
    {
     "data": {
      "text/plain": [
       "Adoption           2416\n",
       "Transfer           2026\n",
       "Return_to_owner       3\n",
       "Euthanasia            2\n",
       "dtype: int64"
      ]
     },
     "execution_count": 58,
     "metadata": {},
     "output_type": "execute_result"
    }
   ],
   "source": [
    "pd.Series(predictions).value_counts()"
   ]
  },
  {
   "cell_type": "code",
   "execution_count": 59,
   "metadata": {
    "collapsed": false
   },
   "outputs": [
    {
     "data": {
      "text/plain": [
       "Transfer           5505\n",
       "Adoption           4272\n",
       "Euthanasia          710\n",
       "Return_to_owner     500\n",
       "Died                147\n",
       "Name: OutcomeType, dtype: int64"
      ]
     },
     "execution_count": 59,
     "metadata": {},
     "output_type": "execute_result"
    }
   ],
   "source": [
    "df_cat['OutcomeType'].value_counts()"
   ]
  },
  {
   "cell_type": "markdown",
   "metadata": {},
   "source": [
    "So it's missing lots of Euthanasia. It mostly just predicts transfer vs. adoption.\n",
    "Let's try only neuter status:"
   ]
  },
  {
   "cell_type": "code",
   "execution_count": 60,
   "metadata": {
    "collapsed": false
   },
   "outputs": [
    {
     "data": {
      "text/plain": [
       "0.72810956443646158"
      ]
     },
     "execution_count": 60,
     "metadata": {},
     "output_type": "execute_result"
    }
   ],
   "source": [
    "dc.fix_cat_breed(df_cat)\n",
    "\n",
    "# Selects the importand \n",
    "cat_features = ['neuter_status']\n",
    "\n",
    "df_cat_dummies = pd.get_dummies(df_cat[cat_features + colors].dropna())\n",
    "df_cat_dummies\n",
    "\n",
    "# splits data.\n",
    "rows = np.random.choice(df_cat_dummies.index.values\n",
    "                ,int( round(len(df_cat_dummies)*.6) ), replace=False)\n",
    "df_cat_dummies_train = df_cat_dummies.ix[rows]\n",
    "df_cat_dummies_test = df_cat_dummies.drop(rows)\n",
    "\n",
    "#### fit and test model\n",
    "\n",
    "train_features = df_cat_dummies_train\n",
    "train_outcomes = df_cat.ix[df_cat_dummies_train.index]['OutcomeType']\n",
    "test_features  = df_cat_dummies_test\n",
    "test_outcomes  = df_cat.ix[df_cat_dummies_test.index]['OutcomeType']\n",
    "\n",
    "from sklearn.naive_bayes import BernoulliNB\n",
    "from sklearn.metrics import accuracy_score\n",
    "\n",
    "bnb = BernoulliNB()\n",
    "bnb.fit(train_features,train_outcomes)\n",
    "\n",
    "predictions = bnb.predict(test_features)\n",
    "accuracy_score(test_outcomes,predictions)"
   ]
  },
  {
   "cell_type": "code",
   "execution_count": 61,
   "metadata": {
    "collapsed": false
   },
   "outputs": [
    {
     "data": {
      "text/plain": [
       "Adoption    2468\n",
       "Transfer    1986\n",
       "dtype: int64"
      ]
     },
     "execution_count": 61,
     "metadata": {},
     "output_type": "execute_result"
    }
   ],
   "source": [
    "pd.Series(predictions).value_counts()"
   ]
  },
  {
   "cell_type": "markdown",
   "metadata": {},
   "source": [
    "Performs equally well! Seems like it's entirely based on neuter status, which works well to destinguish transfers and adoptions, likely because animals are transfered to facilities that can neuter the animal."
   ]
  },
  {
   "cell_type": "code",
   "execution_count": 62,
   "metadata": {
    "collapsed": false
   },
   "outputs": [
    {
     "data": {
      "text/plain": [
       "neuter_status    238\n",
       "OutcomeType      238\n",
       "dtype: int64"
      ]
     },
     "execution_count": 62,
     "metadata": {},
     "output_type": "execute_result"
    }
   ],
   "source": [
    "df_cat.loc[(df_cat['neuter_status']=='Intact')&(df_cat['OutcomeType']==\"Adoption\"),['neuter_status','OutcomeType']].count()"
   ]
  },
  {
   "cell_type": "code",
   "execution_count": 63,
   "metadata": {
    "collapsed": false
   },
   "outputs": [
    {
     "data": {
      "text/plain": [
       "neuter_status    4034\n",
       "OutcomeType      4034\n",
       "dtype: int64"
      ]
     },
     "execution_count": 63,
     "metadata": {},
     "output_type": "execute_result"
    }
   ],
   "source": [
    "df_cat.loc[(df_cat['neuter_status']!='Intact')&(df_cat['OutcomeType']==\"Adoption\"),['neuter_status','OutcomeType']].count()"
   ]
  },
  {
   "cell_type": "code",
   "execution_count": 64,
   "metadata": {
    "collapsed": false
   },
   "outputs": [
    {
     "data": {
      "text/plain": [
       "neuter_status    3234\n",
       "OutcomeType      3234\n",
       "dtype: int64"
      ]
     },
     "execution_count": 64,
     "metadata": {},
     "output_type": "execute_result"
    }
   ],
   "source": [
    "df_cat.loc[(df_cat['neuter_status']=='Intact')&(df_cat['OutcomeType']==\"Transfer\"),['neuter_status','OutcomeType']].count()"
   ]
  },
  {
   "cell_type": "code",
   "execution_count": 65,
   "metadata": {
    "collapsed": false
   },
   "outputs": [
    {
     "data": {
      "text/plain": [
       "neuter_status    2271\n",
       "OutcomeType      2271\n",
       "dtype: int64"
      ]
     },
     "execution_count": 65,
     "metadata": {},
     "output_type": "execute_result"
    }
   ],
   "source": [
    "df_cat.loc[(df_cat['neuter_status']!='Intact')&(df_cat['OutcomeType']==\"Transfer\"),['neuter_status','OutcomeType']].count()"
   ]
  },
  {
   "cell_type": "markdown",
   "metadata": {},
   "source": [
    "Out guess is that naive Bayes needs more data to predict things better. Neuter status is so stongly correlated with transfers that it can use this indicator, but cannot use any others."
   ]
  }
 ],
 "metadata": {
  "kernelspec": {
   "display_name": "Python 3",
   "language": "python",
   "name": "python3"
  },
  "language_info": {
   "codemirror_mode": {
    "name": "ipython",
    "version": 3
   },
   "file_extension": ".py",
   "mimetype": "text/x-python",
   "name": "python",
   "nbconvert_exporter": "python",
   "pygments_lexer": "ipython3",
   "version": "3.4.3+"
  }
 },
 "nbformat": 4,
 "nbformat_minor": 0
}
