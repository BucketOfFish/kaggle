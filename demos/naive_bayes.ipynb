{
 "cells": [
  {
   "cell_type": "code",
   "execution_count": 1,
   "metadata": {
    "collapsed": true
   },
   "outputs": [],
   "source": [
    "import pandas as pd\n",
    "import numpy as np\n",
    "\n",
    "import sys\n",
    "sys.path.insert(0,'../libs/')\n",
    "import data_cleaning as dc"
   ]
  },
  {
   "cell_type": "code",
   "execution_count": 2,
   "metadata": {
    "collapsed": true
   },
   "outputs": [],
   "source": [
    "df = pd.read_csv(\"../data/train.csv\")\n",
    "df = dc.classify_colors(df)\n",
    "df = dc.massage_df(df)"
   ]
  },
  {
   "cell_type": "code",
   "execution_count": 3,
   "metadata": {
    "collapsed": true
   },
   "outputs": [],
   "source": [
    "df_dog = df[df.AnimalType=='Dog'].copy(deep=True)\n",
    "df_cat = df[df.AnimalType=='Cat'].copy(deep=True)"
   ]
  },
  {
   "cell_type": "markdown",
   "metadata": {},
   "source": [
    "### Catzzzzz"
   ]
  },
  {
   "cell_type": "markdown",
   "metadata": {},
   "source": [
    "#### fudge data set with desired feature set"
   ]
  },
  {
   "cell_type": "code",
   "execution_count": 4,
   "metadata": {
    "collapsed": false
   },
   "outputs": [],
   "source": [
    "dc.fix_cat_breed(df_cat)"
   ]
  },
  {
   "cell_type": "code",
   "execution_count": 5,
   "metadata": {
    "collapsed": true
   },
   "outputs": [],
   "source": [
    "cat_features = ['age_numeric', 'neuter_status', 'sex', 'mixed', 'catbreed']\n",
    "cat_features_dummies = [ 'neuter_status_Intact', 'neuter_status_Neutered', #'age_numeric',\n",
    "       'neuter_status_Spayed', 'neuter_status_Unknown', 'sex_Female',\n",
    "       'sex_Male', 'sex_Unknown', 'mixed_Mixed',\n",
    "       'catbreed_domestic longhair', 'catbreed_domestic mediumhair',\n",
    "       'catbreed_domestic shorthair', 'catbreed_rare', 'catbreed_siamese']\n",
    "colors = ['has_Blue', 'has_Tortie',\n",
    "       'has_White', 'has_Brown', 'has_Lilac', 'has_Point', 'has_Tabby',\n",
    "       'has_Gray', 'has_Agouti', 'has_Black', 'has_Lynx', 'has_Orange',\n",
    "       'has_Tan', 'has_Calico']"
   ]
  },
  {
   "cell_type": "code",
   "execution_count": 6,
   "metadata": {
    "collapsed": false
   },
   "outputs": [],
   "source": [
    "# rename column, fix this later\n",
    "df_cat[\"catbreed\"] = df_cat.hair_length\n",
    "df_cat_dummies = pd.get_dummies(df_cat[cat_features + colors].dropna())"
   ]
  },
  {
   "cell_type": "code",
   "execution_count": 7,
   "metadata": {
    "collapsed": false
   },
   "outputs": [],
   "source": [
    "rows = np.random.choice(df_cat_dummies.index.values\n",
    "                ,int( round(len(df_cat_dummies)*.666) ), replace=False)\n",
    "df_cat_dummies_train = df_cat_dummies.ix[rows]\n",
    "df_cat_dummies_test = df_cat_dummies.drop(rows)"
   ]
  },
  {
   "cell_type": "markdown",
   "metadata": {},
   "source": [
    "#### fit and test model"
   ]
  },
  {
   "cell_type": "code",
   "execution_count": 18,
   "metadata": {
    "collapsed": true
   },
   "outputs": [],
   "source": [
    "train_features = df_cat_dummies_train[cat_features_dummies+colors]\n",
    "train_outcomes = df_cat.ix[df_cat_dummies_train.index.values]['OutcomeType']\n",
    "test_features  = df_cat_dummies_test[cat_features_dummies+colors]\n",
    "test_outcomes  = df_cat.ix[df_cat_dummies_test.index.values]['OutcomeType']"
   ]
  },
  {
   "cell_type": "code",
   "execution_count": 19,
   "metadata": {
    "collapsed": true
   },
   "outputs": [],
   "source": [
    "from sklearn.naive_bayes import BernoulliNB\n",
    "from sklearn.metrics import accuracy_score"
   ]
  },
  {
   "cell_type": "code",
   "execution_count": 21,
   "metadata": {
    "collapsed": false
   },
   "outputs": [
    {
     "data": {
      "text/plain": [
       "BernoulliNB(alpha=1.0, binarize=0.0, class_prior=None, fit_prior=True)"
      ]
     },
     "execution_count": 21,
     "metadata": {},
     "output_type": "execute_result"
    }
   ],
   "source": [
    "bnb = BernoulliNB()\n",
    "bnb.fit(train_features,train_outcomes)"
   ]
  },
  {
   "cell_type": "code",
   "execution_count": 23,
   "metadata": {
    "collapsed": false
   },
   "outputs": [
    {
     "data": {
      "text/plain": [
       "0.729490022172949"
      ]
     },
     "execution_count": 23,
     "metadata": {},
     "output_type": "execute_result"
    }
   ],
   "source": [
    "predictions = bnb.predict(test_features)\n",
    "accuracy_score(test_outcomes,predictions)"
   ]
  }
 ],
 "metadata": {
  "kernelspec": {
   "display_name": "Python 2",
   "language": "python",
   "name": "python2"
  },
  "language_info": {
   "codemirror_mode": {
    "name": "ipython",
    "version": 2
   },
   "file_extension": ".py",
   "mimetype": "text/x-python",
   "name": "python",
   "nbconvert_exporter": "python",
   "pygments_lexer": "ipython2",
   "version": "2.7.6"
  }
 },
 "nbformat": 4,
 "nbformat_minor": 0
}
